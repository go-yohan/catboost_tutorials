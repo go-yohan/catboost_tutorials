{
 "cells": [
  {
   "cell_type": "code",
   "execution_count": null,
   "metadata": {},
   "outputs": [],
   "source": [
    "from catboost.datasets import amazon"
   ]
  },
  {
   "cell_type": "code",
   "execution_count": 2,
   "metadata": {},
   "outputs": [],
   "source": [
    "(train_df, test_df) = amazon()\n"
   ]
  },
  {
   "cell_type": "code",
   "execution_count": 3,
   "metadata": {},
   "outputs": [
    {
     "data": {
      "text/html": [
       "<div>\n",
       "<style scoped>\n",
       "    .dataframe tbody tr th:only-of-type {\n",
       "        vertical-align: middle;\n",
       "    }\n",
       "\n",
       "    .dataframe tbody tr th {\n",
       "        vertical-align: top;\n",
       "    }\n",
       "\n",
       "    .dataframe thead th {\n",
       "        text-align: right;\n",
       "    }\n",
       "</style>\n",
       "<table border=\"1\" class=\"dataframe\">\n",
       "  <thead>\n",
       "    <tr style=\"text-align: right;\">\n",
       "      <th></th>\n",
       "      <th>ACTION</th>\n",
       "      <th>RESOURCE</th>\n",
       "      <th>MGR_ID</th>\n",
       "      <th>ROLE_ROLLUP_1</th>\n",
       "      <th>ROLE_ROLLUP_2</th>\n",
       "      <th>ROLE_DEPTNAME</th>\n",
       "      <th>ROLE_TITLE</th>\n",
       "      <th>ROLE_FAMILY_DESC</th>\n",
       "      <th>ROLE_FAMILY</th>\n",
       "      <th>ROLE_CODE</th>\n",
       "    </tr>\n",
       "  </thead>\n",
       "  <tbody>\n",
       "    <tr>\n",
       "      <th>0</th>\n",
       "      <td>1</td>\n",
       "      <td>39353</td>\n",
       "      <td>85475</td>\n",
       "      <td>117961</td>\n",
       "      <td>118300</td>\n",
       "      <td>123472</td>\n",
       "      <td>117905</td>\n",
       "      <td>117906</td>\n",
       "      <td>290919</td>\n",
       "      <td>117908</td>\n",
       "    </tr>\n",
       "    <tr>\n",
       "      <th>1</th>\n",
       "      <td>1</td>\n",
       "      <td>17183</td>\n",
       "      <td>1540</td>\n",
       "      <td>117961</td>\n",
       "      <td>118343</td>\n",
       "      <td>123125</td>\n",
       "      <td>118536</td>\n",
       "      <td>118536</td>\n",
       "      <td>308574</td>\n",
       "      <td>118539</td>\n",
       "    </tr>\n",
       "    <tr>\n",
       "      <th>2</th>\n",
       "      <td>1</td>\n",
       "      <td>36724</td>\n",
       "      <td>14457</td>\n",
       "      <td>118219</td>\n",
       "      <td>118220</td>\n",
       "      <td>117884</td>\n",
       "      <td>117879</td>\n",
       "      <td>267952</td>\n",
       "      <td>19721</td>\n",
       "      <td>117880</td>\n",
       "    </tr>\n",
       "    <tr>\n",
       "      <th>3</th>\n",
       "      <td>1</td>\n",
       "      <td>36135</td>\n",
       "      <td>5396</td>\n",
       "      <td>117961</td>\n",
       "      <td>118343</td>\n",
       "      <td>119993</td>\n",
       "      <td>118321</td>\n",
       "      <td>240983</td>\n",
       "      <td>290919</td>\n",
       "      <td>118322</td>\n",
       "    </tr>\n",
       "    <tr>\n",
       "      <th>4</th>\n",
       "      <td>1</td>\n",
       "      <td>42680</td>\n",
       "      <td>5905</td>\n",
       "      <td>117929</td>\n",
       "      <td>117930</td>\n",
       "      <td>119569</td>\n",
       "      <td>119323</td>\n",
       "      <td>123932</td>\n",
       "      <td>19793</td>\n",
       "      <td>119325</td>\n",
       "    </tr>\n",
       "  </tbody>\n",
       "</table>\n",
       "</div>"
      ],
      "text/plain": [
       "   ACTION  RESOURCE  MGR_ID  ROLE_ROLLUP_1  ROLE_ROLLUP_2  ROLE_DEPTNAME  \\\n",
       "0       1     39353   85475         117961         118300         123472   \n",
       "1       1     17183    1540         117961         118343         123125   \n",
       "2       1     36724   14457         118219         118220         117884   \n",
       "3       1     36135    5396         117961         118343         119993   \n",
       "4       1     42680    5905         117929         117930         119569   \n",
       "\n",
       "   ROLE_TITLE  ROLE_FAMILY_DESC  ROLE_FAMILY  ROLE_CODE  \n",
       "0      117905            117906       290919     117908  \n",
       "1      118536            118536       308574     118539  \n",
       "2      117879            267952        19721     117880  \n",
       "3      118321            240983       290919     118322  \n",
       "4      119323            123932        19793     119325  "
      ]
     },
     "execution_count": 3,
     "metadata": {},
     "output_type": "execute_result"
    }
   ],
   "source": [
    "train_df.head()"
   ]
  },
  {
   "cell_type": "code",
   "execution_count": 4,
   "metadata": {},
   "outputs": [],
   "source": [
    "y = train_df.ACTION\n",
    "X = train_df.drop(\"ACTION\", axis=1)"
   ]
  },
  {
   "cell_type": "code",
   "execution_count": 5,
   "metadata": {},
   "outputs": [
    {
     "name": "stdout",
     "output_type": "stream",
     "text": [
      "[0, 1, 2, 3, 4, 5, 6, 7, 8]\n",
      "Labels: {0, 1}\n",
      "Zero count = 1897, One count = 30872\n"
     ]
    }
   ],
   "source": [
    "cat_features = list(range(0, X.shape[1]))\n",
    "print(cat_features)\n",
    "print(\"Labels: {}\".format(set(y)))\n",
    "print(\"Zero count = {}, One count = {}\".format(len(y) - sum(y), sum(y)))"
   ]
  },
  {
   "cell_type": "markdown",
   "metadata": {},
   "source": [
    "# Training the first model"
   ]
  },
  {
   "cell_type": "code",
   "execution_count": 6,
   "metadata": {},
   "outputs": [
    {
     "name": "stdout",
     "output_type": "stream",
     "text": [
      "Learning rate set to 0.377604\n",
      "0:\tlearn: 0.4528598\ttotal: 94.2ms\tremaining: 9.33s\n",
      "10:\tlearn: 0.1744186\ttotal: 250ms\tremaining: 2.02s\n",
      "20:\tlearn: 0.1676119\ttotal: 347ms\tremaining: 1.31s\n",
      "30:\tlearn: 0.1652446\ttotal: 423ms\tremaining: 942ms\n",
      "40:\tlearn: 0.1633644\ttotal: 529ms\tremaining: 761ms\n",
      "50:\tlearn: 0.1621892\ttotal: 646ms\tremaining: 621ms\n",
      "60:\tlearn: 0.1609164\ttotal: 789ms\tremaining: 504ms\n",
      "70:\tlearn: 0.1594572\ttotal: 900ms\tremaining: 368ms\n",
      "80:\tlearn: 0.1585876\ttotal: 1.01s\tremaining: 237ms\n",
      "90:\tlearn: 0.1573593\ttotal: 1.17s\tremaining: 115ms\n",
      "99:\tlearn: 0.1566977\ttotal: 1.3s\tremaining: 0us\n"
     ]
    },
    {
     "data": {
      "text/plain": [
       "<catboost.core.CatBoostClassifier at 0x7f7782bdebf0>"
      ]
     },
     "execution_count": 6,
     "metadata": {},
     "output_type": "execute_result"
    }
   ],
   "source": [
    "from catboost import CatBoostClassifier\n",
    "model = CatBoostClassifier(iterations=100)\n",
    "model.fit(X, y, cat_features=cat_features, verbose=10)"
   ]
  },
  {
   "cell_type": "code",
   "execution_count": 7,
   "metadata": {},
   "outputs": [
    {
     "data": {
      "text/plain": [
       "array([[0.00977075, 0.99022925],\n",
       "       [0.01005186, 0.98994814],\n",
       "       [0.05793081, 0.94206919],\n",
       "       ...,\n",
       "       [0.01181209, 0.98818791],\n",
       "       [0.18912026, 0.81087974],\n",
       "       [0.02352545, 0.97647455]])"
      ]
     },
     "execution_count": 7,
     "metadata": {},
     "output_type": "execute_result"
    }
   ],
   "source": [
    "model.predict_proba(X)"
   ]
  },
  {
   "cell_type": "code",
   "execution_count": 8,
   "metadata": {},
   "outputs": [],
   "source": [
    "from catboost import Pool\n",
    "pool = Pool(data=X, label=y, cat_features=cat_features)"
   ]
  },
  {
   "cell_type": "code",
   "execution_count": 9,
   "metadata": {},
   "outputs": [],
   "source": [
    "from sklearn.model_selection import train_test_split\n",
    "\n",
    "data = train_test_split(X, y, test_size=0.2, random_state=0)\n",
    "X_train, X_validation, y_train, y_validation = data\n",
    "\n",
    "train_pool = Pool(\n",
    "    data=X_train,\n",
    "    label=y_train,\n",
    "    cat_features=cat_features\n",
    ")\n",
    "\n",
    "validation_pool = Pool(\n",
    "    data = X_validation,\n",
    "    label = y_validation,\n",
    "    cat_features=cat_features\n",
    ")\n",
    "\n"
   ]
  },
  {
   "cell_type": "code",
   "execution_count": 10,
   "metadata": {},
   "outputs": [],
   "source": [
    "from catboost import CatBoostClassifier"
   ]
  },
  {
   "cell_type": "markdown",
   "metadata": {},
   "source": [
    "# selecting the objective function\n",
    "`Logloss` for binary target\n",
    "`CrossEntropy` for probability in target"
   ]
  },
  {
   "cell_type": "code",
   "execution_count": 11,
   "metadata": {},
   "outputs": [
    {
     "name": "stdout",
     "output_type": "stream",
     "text": [
      "Model is fitted: True\n",
      "Model params:\n",
      "{'iterations': 5, 'learning_rate': 0.1}\n"
     ]
    }
   ],
   "source": [
    "model = CatBoostClassifier(\n",
    "    iterations=5,\n",
    "    learning_rate = 0.1,\n",
    "    # loss_function='CrossEntropy'\n",
    ")\n",
    "model.fit(train_pool, eval_set=validation_pool, verbose=False)\n",
    "\n",
    "print(\"Model is fitted: {}\".format(model.is_fitted()))\n",
    "print(\"Model params:\\n{}\".format(model.get_params()))"
   ]
  },
  {
   "cell_type": "code",
   "execution_count": 14,
   "metadata": {},
   "outputs": [
    {
     "name": "stdout",
     "output_type": "stream",
     "text": [
      "Learning rate set to 0.441257\n",
      "0:\tlearn: 0.4226231\ttest: 0.4217069\tbest: 0.4217069 (0)\ttotal: 6.41ms\tremaining: 89.7ms\n",
      "1:\tlearn: 0.3157972\ttest: 0.3136469\tbest: 0.3136469 (1)\ttotal: 15.8ms\tremaining: 102ms\n",
      "2:\tlearn: 0.2631196\ttest: 0.2603395\tbest: 0.2603395 (2)\ttotal: 21ms\tremaining: 84.1ms\n",
      "3:\tlearn: 0.2334650\ttest: 0.2294580\tbest: 0.2294580 (3)\ttotal: 26ms\tremaining: 71.5ms\n",
      "4:\tlearn: 0.2077060\ttest: 0.2017327\tbest: 0.2017327 (4)\ttotal: 30.3ms\tremaining: 60.7ms\n",
      "5:\tlearn: 0.1961364\ttest: 0.1883112\tbest: 0.1883112 (5)\ttotal: 34.1ms\tremaining: 51.2ms\n",
      "6:\tlearn: 0.1879266\ttest: 0.1794018\tbest: 0.1794018 (6)\ttotal: 39.1ms\tremaining: 44.7ms\n",
      "7:\tlearn: 0.1841218\ttest: 0.1743149\tbest: 0.1743149 (7)\ttotal: 41.4ms\tremaining: 36.3ms\n",
      "8:\tlearn: 0.1814626\ttest: 0.1698731\tbest: 0.1698731 (8)\ttotal: 48.1ms\tremaining: 32.1ms\n",
      "9:\tlearn: 0.1785403\ttest: 0.1650335\tbest: 0.1650335 (9)\ttotal: 51.4ms\tremaining: 25.7ms\n",
      "10:\tlearn: 0.1771678\ttest: 0.1634002\tbest: 0.1634002 (10)\ttotal: 55.7ms\tremaining: 20.2ms\n",
      "11:\tlearn: 0.1762101\ttest: 0.1628239\tbest: 0.1628239 (11)\ttotal: 61ms\tremaining: 15.2ms\n",
      "12:\tlearn: 0.1758255\ttest: 0.1624307\tbest: 0.1624307 (12)\ttotal: 65.4ms\tremaining: 10.1ms\n",
      "13:\tlearn: 0.1750837\ttest: 0.1622120\tbest: 0.1622120 (13)\ttotal: 71.4ms\tremaining: 5.1ms\n",
      "14:\tlearn: 0.1745736\ttest: 0.1616416\tbest: 0.1616416 (14)\ttotal: 78.4ms\tremaining: 0us\n",
      "\n",
      "bestTest = 0.1616416212\n",
      "bestIteration = 14\n",
      "\n"
     ]
    },
    {
     "data": {
      "text/plain": [
       "<catboost.core.CatBoostClassifier at 0x7f77339b25c0>"
      ]
     },
     "execution_count": 14,
     "metadata": {},
     "output_type": "execute_result"
    }
   ],
   "source": [
    "model = CatBoostClassifier(\n",
    "    iterations=15,\n",
    ")\n",
    "model.fit(train_pool, eval_set=validation_pool)\n"
   ]
  },
  {
   "cell_type": "code",
   "execution_count": null,
   "metadata": {},
   "outputs": [],
   "source": [
    "# Metrics calculation and graph plotting\n"
   ]
  }
 ],
 "metadata": {
  "kernelspec": {
   "display_name": "tutorials-545-wmZS",
   "language": "python",
   "name": "python3"
  },
  "language_info": {
   "codemirror_mode": {
    "name": "ipython",
    "version": 3
   },
   "file_extension": ".py",
   "mimetype": "text/x-python",
   "name": "python",
   "nbconvert_exporter": "python",
   "pygments_lexer": "ipython3",
   "version": "3.10.13"
  }
 },
 "nbformat": 4,
 "nbformat_minor": 2
}
